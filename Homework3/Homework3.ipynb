{
 "cells": [
  {
   "cell_type": "code",
   "execution_count": 1,
   "metadata": {
    "collapsed": true
   },
   "outputs": [],
   "source": [
    "import random\n",
    "import utils\n",
    "from utils import Expr, Symbol\n",
    "from logic import WalkSAT\n",
    "\n",
    "def gen_clauses(n, m, k, q):\n",
    "    alpha = \"abcdefghijklmnopqrstuvwxyz\"\n",
    "    literals = [l.upper() for l in alpha]\n",
    "    symbols = literals[:n]\n",
    "    \n",
    "    clauses = []\n",
    "    for i in range(0,m):\n",
    "        args = [ Symbol(random.choice(symbols)) \n",
    "                if random.choice(list(range(1, 101)))/100 > q \n",
    "                else Expr('~', Symbol(random.choice(symbols)))  \n",
    "                for i in range(0,k) ]\n",
    "        \n",
    "        clauses.append(Expr('|', *args))\n",
    "    return clauses"
   ]
  },
  {
   "cell_type": "code",
   "execution_count": 2,
   "metadata": {},
   "outputs": [
    {
     "name": "stdout",
     "output_type": "stream",
     "text": [
      "[(~I | J | ~E | ~D), (J | ~E | ~A | H), (F | A | I | ~C), (E | A | ~E | C), (J | H | I | ~H), (E | ~G | ~D | E), (~I | ~J | ~H | F), (B | ~J | G | ~I), (H | ~E | G | ~J), (I | ~G | ~C | J), (D | ~B | ~G | B), (D | ~I | ~E | C), (C | D | ~G | H), (~G | ~C | D | ~F), (~E | ~I | ~G | B)]\n",
      "{B: False, H: False, F: True, C: False, G: True, J: True, A: True, D: True, I: False, E: True}\n",
      "1\n"
     ]
    }
   ],
   "source": [
    "clauses = gen_clauses(10,15,4,0.5)\n",
    "model, flips = WalkSAT(tuple(clauses))\n",
    "print(clauses)\n",
    "print(model)\n",
    "print(flips)"
   ]
  },
  {
   "cell_type": "code",
   "execution_count": 3,
   "metadata": {},
   "outputs": [
    {
     "name": "stdout",
     "output_type": "stream",
     "text": [
      "[(B | C | F), (D | ~C | ~B), (C | D | F), (D | ~E | ~A), (~F | ~C | C), (E | ~D | ~B), (~C | A | ~A), (~B | ~F | B), (~A | E | ~C), (B | ~A | D), (F | F | ~C), (~D | D | ~E), (~B | C | C), (E | ~C | ~B), (~B | D | C), (~C | E | ~F), (F | ~D | F), (C | E | D), (~A | ~A | ~E), (D | A | A)]\n",
      "{B: False, F: True, C: True, A: False, D: True, E: True}\n",
      "2\n"
     ]
    }
   ],
   "source": [
    "clauses = gen_clauses(6,20,3,0.5)\n",
    "model, flips = WalkSAT(tuple(clauses))\n",
    "print(clauses)\n",
    "print(model)\n",
    "print(flips)"
   ]
  }
 ],
 "metadata": {
  "kernelspec": {
   "display_name": "Python 3",
   "language": "python",
   "name": "python3"
  },
  "language_info": {
   "codemirror_mode": {
    "name": "ipython",
    "version": 3
   },
   "file_extension": ".py",
   "mimetype": "text/x-python",
   "name": "python",
   "nbconvert_exporter": "python",
   "pygments_lexer": "ipython3",
   "version": "3.6.1"
  }
 },
 "nbformat": 4,
 "nbformat_minor": 2
}
